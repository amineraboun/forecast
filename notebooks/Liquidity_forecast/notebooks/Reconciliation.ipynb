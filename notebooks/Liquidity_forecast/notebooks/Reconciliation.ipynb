{
 "cells": [
  {
   "cell_type": "code",
   "execution_count": 1,
   "metadata": {},
   "outputs": [],
   "source": [
    "import pandas as pd\n",
    "import numpy as np\n",
    "import matplotlib.pyplot as plt\n",
    "import pickle\n",
    "from forecast_combine.reconcile import ForecastReconciler\n"
   ]
  },
  {
   "cell_type": "code",
   "execution_count": 2,
   "metadata": {},
   "outputs": [],
   "source": [
    "# trained models for each autonomous factor\n",
    "output_folder = '../model_output/'\n",
    "model_names = ['CIC', 'NFA', 'SAB', 'Total_AF']\n",
    "forecasters_d = {}\n",
    "for model_name in model_names:\n",
    "    with open(output_folder + model_name + '_forecast.pkl', 'rb') as f:\n",
    "        forecasters_d[model_name] = pickle.load(f)    "
   ]
  },
  {
   "cell_type": "code",
   "execution_count": 3,
   "metadata": {},
   "outputs": [],
   "source": [
    "# Hierarchical relationship matrix\n",
    "S = pd.DataFrame(np.array([[1,1,-1], [1,0,0], [0,1,0], [0,0,1]]), \n",
    "                 columns=['CIC', 'SAB', 'NFA'], \n",
    "                 index=['Total_AF', 'CIC', 'SAB', 'NFA'])"
   ]
  },
  {
   "cell_type": "code",
   "execution_count": 4,
   "metadata": {},
   "outputs": [],
   "source": [
    "# Hiearchical reconciliation model\n",
    "reconciler = ForecastReconciler(forecasters_d=forecasters_d, S = S)"
   ]
  },
  {
   "cell_type": "code",
   "execution_count": 5,
   "metadata": {},
   "outputs": [
    {
     "name": "stdout",
     "output_type": "stream",
     "text": [
      "LOESS does not support prediction intervals\n",
      "Error: StatsForecastMSTL does not have the capability to return prediction intervals. If you think this estimator should have the capability, please open an issue on sktime.\n"
     ]
    }
   ],
   "source": [
    "for m in ['ols', 'wls', 'mint', 'bu', 'td']:\n",
    "    reconciled_preds, reconciled_intervals = reconciler.predict(reconciliation_method = m)\n",
    "    reconciler.plot_predict(reconciled_preds, reconciled_intervals, title = m)\n",
    "    plt.show()"
   ]
  },
  {
   "cell_type": "code",
   "execution_count": null,
   "metadata": {},
   "outputs": [],
   "source": []
  }
 ],
 "metadata": {
  "kernelspec": {
   "display_name": ".venv",
   "language": "python",
   "name": "python3"
  },
  "language_info": {
   "codemirror_mode": {
    "name": "ipython",
    "version": 3
   },
   "file_extension": ".py",
   "mimetype": "text/x-python",
   "name": "python",
   "nbconvert_exporter": "python",
   "pygments_lexer": "ipython3",
   "version": "3.9.7"
  }
 },
 "nbformat": 4,
 "nbformat_minor": 2
}
